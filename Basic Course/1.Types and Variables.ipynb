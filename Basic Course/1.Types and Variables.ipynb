{
  "nbformat": 4,
  "nbformat_minor": 0,
  "metadata": {
    "colab": {
      "name": "1.Types and Variables.ipynb",
      "version": "0.3.2",
      "provenance": []
    },
    "kernelspec": {
      "display_name": "Python 3",
      "language": "python",
      "name": "python3"
    }
  },
  "cells": [
    {
      "metadata": {
        "id": "f1jaZJJYTSzf",
        "colab_type": "text"
      },
      "cell_type": "markdown",
      "source": [
        "<center>Introduction to Python !</center>\n",
        "---"
      ]
    },
    {
      "metadata": {
        "id": "m5Ep36soTSzp",
        "colab_type": "text"
      },
      "cell_type": "markdown",
      "source": [
        "Presented By :\n",
        "* Parth Verma | [Parth-Vader](www.github.com/Parth-Vader)\n",
        "* Nitin Choudhary | [nitinkgp23](www.github.com/nitinkgp23)\n",
        "* Sangeet Kumar Mishra | [sangeet259](www.github.com/sangeet259)"
      ]
    },
    {
      "metadata": {
        "id": "VNth2NdYTSzr",
        "colab_type": "text"
      },
      "cell_type": "markdown",
      "source": [
        "Co-Ordinted By :\n",
        "* Himanshu Mishra | [OrkoHunter](www.github.com/OrkoHunter)\n",
        "* Kshitij Saraogi | [shitij10496](www.github.com/shitij10496)\n",
        "* Rishabh Madan | [madan96](www.github.com/madan96)"
      ]
    },
    {
      "metadata": {
        "id": "7xXlPEckTSzu",
        "colab_type": "text"
      },
      "cell_type": "markdown",
      "source": [
        "## Organised By :\n",
        "### [Kharagpur Open Source Society](https://kossiitkgp.github.io)"
      ]
    },
    {
      "metadata": {
        "id": "pg_Sp5EsTSzy",
        "colab_type": "text"
      },
      "cell_type": "markdown",
      "source": [
        "# What are we going to learn today ?\n",
        "\n",
        "\n",
        "- How to program in Python language?\n",
        "- What is the Python language and why is there a buzz about it?\n",
        "\n",
        "\n",
        "Topics covered in this session:\n",
        "    - Types\n",
        "    - Variables\n",
        "    - Strings\n",
        "    - Boolean\n",
        "    - Conditionals\n",
        "    - List and Tuples\n",
        "    - Loops\n",
        "    - Functions\n",
        "    - Dicts\n",
        "    \n",
        "By the end of the session, We would like everyone to be comfortable with these concepts as they are the basis of the next session `Advanced Python`"
      ]
    },
    {
      "metadata": {
        "id": "DG8jH1lBTSz0",
        "colab_type": "text"
      },
      "cell_type": "markdown",
      "source": [
        "# How to Write and Run Python Code\n",
        "\n",
        "There are two ways to run Python code:\n",
        "    1. interactive mode\n",
        "    2. script mode\n"
      ]
    },
    {
      "metadata": {
        "id": "SO__tFbmTSz3",
        "colab_type": "text"
      },
      "cell_type": "markdown",
      "source": [
        "## Interactive Mode\n",
        "\n",
        "In interactive mode, you type Python code and the interpreter displays the result.\n",
        "This is the Python REPL (Read-Eval-Print Loop)."
      ]
    },
    {
      "metadata": {
        "id": "5Di2N-U4TSz6",
        "colab_type": "code",
        "colab": {},
        "outputId": "e9b5d9a2-2d6c-401b-c6a4-98587e313601"
      },
      "cell_type": "code",
      "source": [
        "print('Hello, World! This is my first line of Python')"
      ],
      "execution_count": 0,
      "outputs": [
        {
          "output_type": "stream",
          "text": [
            "Hello, World! This is my first line of Python\n"
          ],
          "name": "stdout"
        }
      ]
    },
    {
      "metadata": {
        "id": "GS-94A8STS0D",
        "colab_type": "text"
      },
      "cell_type": "markdown",
      "source": [
        "## Script Mode\n",
        "\n",
        "In script mode, you store the code in a file that ends with \".py\".\n",
        "\n",
        "Copy the above line of code in a file called **hello_world.py**.\n",
        "To execute the code in the file, you would type **$ python first_program.py** in a command window.\n",
        "\n",
        "You should save your code as a script if you are writing anything more than a few lines."
      ]
    },
    {
      "metadata": {
        "id": "UU7lIo03TS0G",
        "colab_type": "text"
      },
      "cell_type": "markdown",
      "source": [
        "## Types"
      ]
    },
    {
      "metadata": {
        "id": "AuesvClhTS0J",
        "colab_type": "text"
      },
      "cell_type": "markdown",
      "source": [
        "Variables\n",
        "---------\n",
        "\n",
        "In computer programming, a variable is a storage location and an associated symbolic name (an _identifier_) which contains some known or unknown quantity or information, a value.\n",
        "\n",
        "#### C\n",
        "```c\n",
        "int x = 29;\n",
        "float y = 321.321;\n",
        "double z = 32132132132133.21;\n",
        "```\n",
        "\n",
        "#### Python\n",
        "```python\n",
        "x = 343  # Integer\n",
        "y = 4324n4324  # Flaot\n",
        "```\n",
        "Variable names in Python can contain alphanumerical characters a-z, A-Z, 0-9 and some special characters such as `_`. Normal variable names should start with a letter. `_` can be used for special cases.\n",
        "By convension, variable names start with a lower-case letter, and Class names start with an upper-case letter.\n",
        "In addition, there are a number of Python keywords that cannot be used as variable names. These keywords are:\n",
        "\n",
        "```\n",
        "and, as, assert, break, class, continue, def, del, elif, else, except, \n",
        "exec, finally, for, from, global, if, import, in, is, lambda, not, or,\n",
        "pass, print, raise, return, try, while, with, yield\n",
        "```\n"
      ]
    },
    {
      "metadata": {
        "id": "b4nTdwGjTS0L",
        "colab_type": "text"
      },
      "cell_type": "markdown",
      "source": [
        "Note: Be aware of the keyword `lambda`, which could easily be a natural variable name in a scientific program. But being a keyword, it cannot be used as a variable name."
      ]
    },
    {
      "metadata": {
        "id": "Y816_R5zTS0N",
        "colab_type": "text"
      },
      "cell_type": "markdown",
      "source": [
        "Assignment\n",
        "----------\n",
        "\n",
        "The assignment operator in Python is `=`. Python is a **dynamically typed** language, so we do not need to specify the type of a variable when we create one."
      ]
    },
    {
      "metadata": {
        "id": "bu5Zip0GTS0P",
        "colab_type": "raw"
      },
      "cell_type": "markdown",
      "source": [
        "Assigning a value to a new variable creates the variable:"
      ]
    },
    {
      "metadata": {
        "id": "kYrtKpjOTS0Q",
        "colab_type": "code",
        "colab": {}
      },
      "cell_type": "code",
      "source": [
        "''' \n",
        "variable assignments\n",
        "this is a variable assignment\n",
        "'''\n",
        "x = 1.0\n",
        "my_variable = 12\n",
        "name=\"Ram\""
      ],
      "execution_count": 0,
      "outputs": []
    },
    {
      "metadata": {
        "id": "f_82wdAsTS0U",
        "colab_type": "code",
        "colab": {},
        "outputId": "3587bf0f-a251-4620-8b4a-71cacdabdf6a"
      },
      "cell_type": "code",
      "source": [
        "print(type(x))\n",
        "print(type(my_variable))\n",
        "print(type(name))"
      ],
      "execution_count": 0,
      "outputs": [
        {
          "output_type": "stream",
          "text": [
            "<class 'float'>\n",
            "<class 'int'>\n",
            "<class 'str'>\n"
          ],
          "name": "stdout"
        }
      ]
    },
    {
      "metadata": {
        "id": "oXvXG3XpTS0g",
        "colab_type": "raw"
      },
      "cell_type": "markdown",
      "source": [
        "If we assign a new value to a variable, its type can change."
      ]
    },
    {
      "metadata": {
        "id": "AIVKO8_tTS0h",
        "colab_type": "code",
        "colab": {},
        "outputId": "ee80bf92-fde2-4e3f-a1fa-9618abd1cd94"
      },
      "cell_type": "code",
      "source": [
        "x = 1\n",
        "type(x)"
      ],
      "execution_count": 0,
      "outputs": [
        {
          "output_type": "execute_result",
          "data": {
            "text/plain": [
              "int"
            ]
          },
          "metadata": {
            "tags": []
          },
          "execution_count": 3
        }
      ]
    },
    {
      "metadata": {
        "id": "7uf94xXaTS0r",
        "colab_type": "text"
      },
      "cell_type": "markdown",
      "source": [
        "We get a `NameError` when we try to access a variable which has not been defined."
      ]
    },
    {
      "metadata": {
        "id": "Qo5QCAFsTS0t",
        "colab_type": "code",
        "colab": {},
        "outputId": "4a4b2f0f-b6e9-42f5-a9d6-394fcc30ace5"
      },
      "cell_type": "code",
      "source": [
        "t = x + y"
      ],
      "execution_count": 0,
      "outputs": [
        {
          "output_type": "error",
          "ename": "NameError",
          "evalue": "name 'y' is not defined",
          "traceback": [
            "\u001b[0;31m---------------------------------------------------------------------------\u001b[0m",
            "\u001b[0;31mNameError\u001b[0m                                 Traceback (most recent call last)",
            "\u001b[0;32m<ipython-input-4-c564d8507e5d>\u001b[0m in \u001b[0;36m<module>\u001b[0;34m()\u001b[0m\n\u001b[0;32m----> 1\u001b[0;31m \u001b[0mt\u001b[0m \u001b[0;34m=\u001b[0m \u001b[0mx\u001b[0m \u001b[0;34m+\u001b[0m \u001b[0my\u001b[0m\u001b[0;34m\u001b[0m\u001b[0m\n\u001b[0m",
            "\u001b[0;31mNameError\u001b[0m: name 'y' is not defined"
          ]
        }
      ]
    },
    {
      "metadata": {
        "id": "TcVkN0NnTS08",
        "colab_type": "text"
      },
      "cell_type": "markdown",
      "source": [
        "## Multiple assignments"
      ]
    },
    {
      "metadata": {
        "id": "h-1zWDcGTS0-",
        "colab_type": "code",
        "colab": {}
      },
      "cell_type": "code",
      "source": [
        "a, b, c = 5, 3.2, \"Hello\""
      ],
      "execution_count": 0,
      "outputs": []
    },
    {
      "metadata": {
        "id": "7p-ORyq7TS1D",
        "colab_type": "code",
        "colab": {},
        "outputId": "7efff998-dbf0-4e1b-c052-fced81c7eba7"
      },
      "cell_type": "code",
      "source": [
        "print(a,b,c)"
      ],
      "execution_count": 0,
      "outputs": [
        {
          "output_type": "stream",
          "text": [
            "5 3.2 Hello\n"
          ],
          "name": "stdout"
        }
      ]
    },
    {
      "metadata": {
        "id": "YBjA4RttTS1M",
        "colab_type": "text"
      },
      "cell_type": "markdown",
      "source": [
        "### Assign the same value to multiple variables at once"
      ]
    },
    {
      "metadata": {
        "id": "ZQ3LDqmJTS1O",
        "colab_type": "code",
        "colab": {}
      },
      "cell_type": "code",
      "source": [
        "x = y = z = \"same\""
      ],
      "execution_count": 0,
      "outputs": []
    },
    {
      "metadata": {
        "id": "dMttZW8UTS1T",
        "colab_type": "text"
      },
      "cell_type": "markdown",
      "source": [
        "Fundamental data types\n",
        "----------------------"
      ]
    },
    {
      "metadata": {
        "id": "yhrch8ZNTS1V",
        "colab_type": "code",
        "colab": {},
        "outputId": "427a61cd-51e9-41a0-d243-a71312148c60"
      },
      "cell_type": "code",
      "source": [
        "# integers\n",
        "x = 1\n",
        "type(x)"
      ],
      "execution_count": 0,
      "outputs": [
        {
          "output_type": "execute_result",
          "data": {
            "text/plain": [
              "int"
            ]
          },
          "metadata": {
            "tags": []
          },
          "execution_count": 8
        }
      ]
    },
    {
      "metadata": {
        "id": "lI4DwsEYTS1d",
        "colab_type": "code",
        "colab": {},
        "outputId": "131e69a3-3269-42c9-d880-6a0c186fbbab"
      },
      "cell_type": "code",
      "source": [
        "# float\n",
        "x = 1.0\n",
        "type(x)"
      ],
      "execution_count": 0,
      "outputs": [
        {
          "output_type": "execute_result",
          "data": {
            "text/plain": [
              "float"
            ]
          },
          "metadata": {
            "tags": []
          },
          "execution_count": 9
        }
      ]
    },
    {
      "metadata": {
        "id": "CQBBhnGITS1k",
        "colab_type": "code",
        "colab": {},
        "outputId": "93468497-c579-4817-ab23-6507ff95f7f4"
      },
      "cell_type": "code",
      "source": [
        "# boolean\n",
        "b1 = True\n",
        "b2 = False\n",
        "\n",
        "type(b1)\n"
      ],
      "execution_count": 0,
      "outputs": [
        {
          "output_type": "execute_result",
          "data": {
            "text/plain": [
              "bool"
            ]
          },
          "metadata": {
            "tags": []
          },
          "execution_count": 10
        }
      ]
    },
    {
      "metadata": {
        "id": "SAuIiAOlTS1u",
        "colab_type": "text"
      },
      "cell_type": "markdown",
      "source": [
        "### More on Booleans later!"
      ]
    },
    {
      "metadata": {
        "id": "s9WaCCF6TS1w",
        "colab_type": "text"
      },
      "cell_type": "markdown",
      "source": [
        "## Complex Numbers in Python !!"
      ]
    },
    {
      "metadata": {
        "id": "sWdi_re8TS10",
        "colab_type": "code",
        "colab": {},
        "outputId": "e4c9cffd-1482-475a-b186-f4269b05cd57"
      },
      "cell_type": "code",
      "source": [
        "# complex numbers: note the use of `j` to specify the imaginary part\n",
        "x = 1.0 - 1.0j\n",
        "type(x)"
      ],
      "execution_count": 0,
      "outputs": [
        {
          "output_type": "execute_result",
          "data": {
            "text/plain": [
              "complex"
            ]
          },
          "metadata": {
            "tags": []
          },
          "execution_count": 11
        }
      ]
    },
    {
      "metadata": {
        "id": "_29OPa6rTS2C",
        "colab_type": "code",
        "colab": {},
        "outputId": "d550ecb7-7308-41ba-ba1e-31cbcb41e9bb"
      },
      "cell_type": "code",
      "source": [
        "print(x)"
      ],
      "execution_count": 0,
      "outputs": [
        {
          "output_type": "stream",
          "text": [
            "(1-1j)\n"
          ],
          "name": "stdout"
        }
      ]
    },
    {
      "metadata": {
        "id": "9dXSNNjbTS2I",
        "colab_type": "code",
        "colab": {},
        "outputId": "18f788e0-3db3-4f2f-c253-005b2bd18067"
      },
      "cell_type": "code",
      "source": [
        "# Real part\n",
        "print(x.real)"
      ],
      "execution_count": 0,
      "outputs": [
        {
          "output_type": "stream",
          "text": [
            "1.0\n"
          ],
          "name": "stdout"
        }
      ]
    },
    {
      "metadata": {
        "id": "mEytX4UHTS2V",
        "colab_type": "code",
        "colab": {},
        "outputId": "ea069631-6992-4366-a13c-62c8f4447ba6"
      },
      "cell_type": "code",
      "source": [
        "# Imaginary \n",
        "print(x.imag)"
      ],
      "execution_count": 0,
      "outputs": [
        {
          "output_type": "stream",
          "text": [
            "-1.0\n"
          ],
          "name": "stdout"
        }
      ]
    },
    {
      "metadata": {
        "id": "e8qbm4a9TS2a",
        "colab_type": "text"
      },
      "cell_type": "markdown",
      "source": [
        "## Typecasting\n",
        "\n",
        "When you want to change variables from one type to another.\n",
        "We are using inbuilt _functions_ to do the typecasting.\n",
        "Later we'll show you how to write your own functions."
      ]
    },
    {
      "metadata": {
        "id": "lquoydUBTS2f",
        "colab_type": "code",
        "colab": {},
        "outputId": "5ef9f58a-88fb-45bc-a9ac-a40b6f4e778c"
      },
      "cell_type": "code",
      "source": [
        "a = 1\n",
        "print(a)"
      ],
      "execution_count": 0,
      "outputs": [
        {
          "output_type": "stream",
          "text": [
            "1\n"
          ],
          "name": "stdout"
        }
      ]
    },
    {
      "metadata": {
        "id": "EGUowZYdTS2k",
        "colab_type": "code",
        "colab": {},
        "outputId": "ab29605a-c4c2-48c6-da56-646464b66eb2"
      },
      "cell_type": "code",
      "source": [
        "float(a)"
      ],
      "execution_count": 0,
      "outputs": [
        {
          "output_type": "execute_result",
          "data": {
            "text/plain": [
              "1.0"
            ]
          },
          "metadata": {
            "tags": []
          },
          "execution_count": 17
        }
      ]
    },
    {
      "metadata": {
        "id": "F9QAH7jGTS2p",
        "colab_type": "code",
        "colab": {},
        "outputId": "a08cef41-a8b6-4342-9a2e-47180bc7ba79"
      },
      "cell_type": "code",
      "source": [
        "z = 2 + 3j\n",
        "z"
      ],
      "execution_count": 0,
      "outputs": [
        {
          "output_type": "execute_result",
          "data": {
            "text/plain": [
              "(2+3j)"
            ]
          },
          "metadata": {
            "tags": []
          },
          "execution_count": 18
        }
      ]
    },
    {
      "metadata": {
        "id": "w41salN6TS2x",
        "colab_type": "code",
        "colab": {},
        "outputId": "8dd7b337-8547-494f-d23d-d6252f753a54"
      },
      "cell_type": "code",
      "source": [
        "float(z.imag)"
      ],
      "execution_count": 0,
      "outputs": [
        {
          "output_type": "execute_result",
          "data": {
            "text/plain": [
              "3.0"
            ]
          },
          "metadata": {
            "tags": []
          },
          "execution_count": 19
        }
      ]
    },
    {
      "metadata": {
        "id": "Qw2SgJJ0TS23",
        "colab_type": "code",
        "colab": {},
        "outputId": "565a301c-a11a-4771-9d6d-4ad3989b4e52"
      },
      "cell_type": "code",
      "source": [
        "complex(a)"
      ],
      "execution_count": 0,
      "outputs": [
        {
          "output_type": "execute_result",
          "data": {
            "text/plain": [
              "(1+0j)"
            ]
          },
          "metadata": {
            "tags": []
          },
          "execution_count": 20
        }
      ]
    },
    {
      "metadata": {
        "id": "K8c8-iUGTS29",
        "colab_type": "code",
        "colab": {},
        "outputId": "8fcfb2cd-29f7-42f9-f5c3-85ea88cbc2ee"
      },
      "cell_type": "code",
      "source": [
        "int(45.55)"
      ],
      "execution_count": 0,
      "outputs": [
        {
          "output_type": "execute_result",
          "data": {
            "text/plain": [
              "45"
            ]
          },
          "metadata": {
            "tags": []
          },
          "execution_count": 21
        }
      ]
    },
    {
      "metadata": {
        "id": "nU-mHebBTS3H",
        "colab_type": "text"
      },
      "cell_type": "markdown",
      "source": [
        "## Python List"
      ]
    },
    {
      "metadata": {
        "id": "BV0Rf4IOTS3H",
        "colab_type": "raw"
      },
      "cell_type": "markdown",
      "source": [
        "List is an ordered sequence of items."
      ]
    },
    {
      "metadata": {
        "id": "G0CXzE9-TS3I",
        "colab_type": "code",
        "colab": {}
      },
      "cell_type": "code",
      "source": [
        "a = [1, 2.2, 'python']"
      ],
      "execution_count": 0,
      "outputs": []
    },
    {
      "metadata": {
        "id": "p1DBnxczTS3M",
        "colab_type": "text"
      },
      "cell_type": "markdown",
      "source": [
        "## Python Tuple"
      ]
    },
    {
      "metadata": {
        "id": "xSu5Ba9rTS3N",
        "colab_type": "raw"
      },
      "cell_type": "markdown",
      "source": [
        "Tuple is an ordered sequence of items same as list.\n",
        "The only difference is that tuples are immutable."
      ]
    },
    {
      "metadata": {
        "id": "yK4xFBiyTS3P",
        "colab_type": "code",
        "colab": {}
      },
      "cell_type": "code",
      "source": [
        "t = (5,'program', 1+3j)"
      ],
      "execution_count": 0,
      "outputs": []
    },
    {
      "metadata": {
        "id": "Wv3i8FeWTS3Q",
        "colab_type": "text"
      },
      "cell_type": "markdown",
      "source": [
        "# Mutability in Python"
      ]
    },
    {
      "metadata": {
        "id": "LkWk9a8-TS3S",
        "colab_type": "text"
      },
      "cell_type": "markdown",
      "source": [
        "```A class is immutable if each object of that class has a fixed value upon instantiation that cannot SUBSEQUENTLY be changed```"
      ]
    },
    {
      "metadata": {
        "id": "E8TZwJiJTS3S",
        "colab_type": "text"
      },
      "cell_type": "markdown",
      "source": [
        "***In another words change the entire value of that variable name or leave it alone.***"
      ]
    },
    {
      "metadata": {
        "id": "WdWuadqWTS3T",
        "colab_type": "text"
      },
      "cell_type": "markdown",
      "source": [
        "Example:"
      ]
    },
    {
      "metadata": {
        "id": "HoyKY1cjTS3T",
        "colab_type": "code",
        "colab": {},
        "outputId": "2847f7d4-4060-40b3-8169-0df14c7f5edd"
      },
      "cell_type": "code",
      "source": [
        "my_string = \"Hello world\"\n",
        "my_string[0] = \"h\"\n",
        "print(my_string)"
      ],
      "execution_count": 0,
      "outputs": [
        {
          "output_type": "error",
          "ename": "TypeError",
          "evalue": "'str' object does not support item assignment",
          "traceback": [
            "\u001b[0;31m---------------------------------------------------------------------------\u001b[0m",
            "\u001b[0;31mTypeError\u001b[0m                                 Traceback (most recent call last)",
            "\u001b[0;32m<ipython-input-24-00fbf3b2efcc>\u001b[0m in \u001b[0;36m<module>\u001b[0;34m()\u001b[0m\n\u001b[1;32m      1\u001b[0m \u001b[0mmy_string\u001b[0m \u001b[0;34m=\u001b[0m \u001b[0;34m\"Hello world\"\u001b[0m\u001b[0;34m\u001b[0m\u001b[0m\n\u001b[0;32m----> 2\u001b[0;31m \u001b[0mmy_string\u001b[0m\u001b[0;34m[\u001b[0m\u001b[0;36m0\u001b[0m\u001b[0;34m]\u001b[0m \u001b[0;34m=\u001b[0m \u001b[0;34m\"h\"\u001b[0m\u001b[0;34m\u001b[0m\u001b[0m\n\u001b[0m\u001b[1;32m      3\u001b[0m \u001b[0mprint\u001b[0m\u001b[0;34m(\u001b[0m\u001b[0mmy_string\u001b[0m\u001b[0;34m)\u001b[0m\u001b[0;34m\u001b[0m\u001b[0m\n",
            "\u001b[0;31mTypeError\u001b[0m: 'str' object does not support item assignment"
          ]
        }
      ]
    },
    {
      "metadata": {
        "id": "4kWrHW-fTS3Y",
        "colab_type": "raw"
      },
      "cell_type": "markdown",
      "source": [
        "The interpreter is saying : i can't change the first character of this string"
      ]
    },
    {
      "metadata": {
        "id": "dS2DvqXeTS3a",
        "colab_type": "raw"
      },
      "cell_type": "markdown",
      "source": [
        "You will have to change the whole `string` in order to make it works:"
      ]
    },
    {
      "metadata": {
        "id": "30yrA0ZLTS3a",
        "colab_type": "code",
        "colab": {}
      },
      "cell_type": "code",
      "source": [
        "my_string = \"Hello World\"\n",
        "my_string = \"hello world\"\n",
        "print(my_string) #hello world"
      ],
      "execution_count": 0,
      "outputs": []
    },
    {
      "metadata": {
        "id": "d9x56OlkTS3f",
        "colab_type": "raw"
      },
      "cell_type": "markdown",
      "source": [
        "Here is a complete list of Mutable and Immutable Data Types"
      ]
    },
    {
      "metadata": {
        "id": "vqea5zn3TS3m",
        "colab_type": "text"
      },
      "cell_type": "markdown",
      "source": [
        "![img](./img/mutable_and_immutable.png \"img\")"
      ]
    },
    {
      "metadata": {
        "id": "u_-Jk_1vTmyr",
        "colab_type": "text"
      },
      "cell_type": "markdown",
      "source": [
        "# **Question 1**\n",
        "While writing a new backend code in python Nitin is stuck on how to take an address string and prefix it with an order id and suffix it with the name of person to whom it is delivered. Help Nitin with his task.  \n",
        "**Address** -> Kharagpur, West Bengal 721302  \n",
        "**Name** -> Partha Pratim Chakraborty  \n",
        "**Order-id** -> LifeOutSideCollege"
      ]
    },
    {
      "metadata": {
        "id": "q4jIa56hZbbp",
        "colab_type": "text"
      },
      "cell_type": "markdown",
      "source": [
        "# **Question 2**\n",
        "As you helped Nitin add prefix and suffix to the addresss string, now nitin has passed down this code to Apoorva. Now Apoorva being a shitty coder doesn't know some basic function of python. He is given a **list** such as it contains :  \n",
        "**[serial no,order-id,address,name]**. But due to some bug in the system the serial number is in string rather than being an integer. So manipulate the list such as it contains serial number in integer and it comes in last as **[order-id,address,name,serial no]**. Help Apoorva save his ass.   \n",
        "**oldlist**=[\"1\",\"LifeOutSideCollege\",\"Kharagpur, West Bengal 721302\",\"Partha Pratim Chakraborty\"]\n",
        "\n"
      ]
    },
    {
      "metadata": {
        "id": "3b0TXP1udXgj",
        "colab_type": "text"
      },
      "cell_type": "markdown",
      "source": [
        "# **Question 3**\n",
        "Apoorva is really thankful that you helped him save his ass. But he wants some more help. Now he is being told to make one string by concatenating all the elements in the , newlist which is in format  **[order-id,address,name,serial no]** . But he is getting some error. Help him resolve that error."
      ]
    }
  ]
}