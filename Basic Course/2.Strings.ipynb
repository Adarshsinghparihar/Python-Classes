{
  "nbformat": 4,
  "nbformat_minor": 0,
  "metadata": {
    "colab": {
      "name": "2.Strings.ipynb",
      "version": "0.3.2",
      "provenance": []
    },
    "kernelspec": {
      "display_name": "Python 3",
      "language": "python",
      "name": "python3"
    }
  },
  "cells": [
    {
      "metadata": {
        "id": "iN-Hc_6yjTPa",
        "colab_type": "text",
        "slideshow": {
          "slide_type": "slide"
        }
      },
      "cell_type": "markdown",
      "source": [
        "## Strings\n",
        "\n",
        "### Let's get deep!"
      ]
    },
    {
      "metadata": {
        "id": "qVm07o0ijTPh",
        "colab_type": "raw",
        "slideshow": {
          "slide_type": "slide"
        }
      },
      "cell_type": "markdown",
      "source": [
        "Strings are the variable type that is used for storing text messages."
      ]
    },
    {
      "metadata": {
        "id": "NuF_DcgTjTPn",
        "colab_type": "code",
        "slideshow": {
          "slide_type": "subslide"
        },
        "colab": {}
      },
      "cell_type": "code",
      "source": [
        "s = \"Hello world\"\n",
        "type(s)"
      ],
      "execution_count": 0,
      "outputs": []
    },
    {
      "metadata": {
        "id": "LH_b0QTkjTPy",
        "colab_type": "raw"
      },
      "cell_type": "markdown",
      "source": [
        "Notice you dont't get 12 which you would have got in C !"
      ]
    },
    {
      "metadata": {
        "id": "Imv97s0jjTP2",
        "colab_type": "code",
        "slideshow": {
          "slide_type": "subslide"
        },
        "colab": {}
      },
      "cell_type": "code",
      "source": [
        "# length of the string: the number of characters\n",
        "len(s)"
      ],
      "execution_count": 0,
      "outputs": []
    },
    {
      "metadata": {
        "id": "cSlPvsqIjTP-",
        "colab_type": "code",
        "slideshow": {
          "slide_type": "subslide"
        },
        "colab": {}
      },
      "cell_type": "code",
      "source": [
        "s  # `s` is still the same! Strings are immutable."
      ],
      "execution_count": 0,
      "outputs": []
    },
    {
      "metadata": {
        "id": "6G6xltLNjTQF",
        "colab_type": "code",
        "slideshow": {
          "slide_type": "subslide"
        },
        "colab": {}
      },
      "cell_type": "code",
      "source": [
        "s[0]"
      ],
      "execution_count": 0,
      "outputs": []
    },
    {
      "metadata": {
        "id": "pHPJbZXcjTQL",
        "colab_type": "code",
        "slideshow": {
          "slide_type": "subslide"
        },
        "colab": {}
      },
      "cell_type": "code",
      "source": [
        "s[1]"
      ],
      "execution_count": 0,
      "outputs": []
    },
    {
      "metadata": {
        "id": "2DK8qEOYjTQR",
        "colab_type": "code",
        "slideshow": {
          "slide_type": "subslide"
        },
        "colab": {}
      },
      "cell_type": "code",
      "source": [
        "s[2], s[3], s[4]"
      ],
      "execution_count": 0,
      "outputs": []
    },
    {
      "metadata": {
        "id": "WyUI4pcIjTQd",
        "colab_type": "raw"
      },
      "cell_type": "markdown",
      "source": [
        "Accessing Characters by Negative Index Number"
      ]
    },
    {
      "metadata": {
        "id": "-r9e1dzpjTQe",
        "colab_type": "raw"
      },
      "cell_type": "markdown",
      "source": [
        "If we have a long string and we want to pinpoint an item towards the end, we can also count backwards from the end of the string, starting at the index number -1."
      ]
    },
    {
      "metadata": {
        "id": "KUSVytyhjTQi",
        "colab_type": "code",
        "colab": {}
      },
      "cell_type": "code",
      "source": [
        "ss = \"Sammy Shark!\""
      ],
      "execution_count": 0,
      "outputs": []
    },
    {
      "metadata": {
        "id": "z2CCbnVvjTQs",
        "colab_type": "text"
      },
      "cell_type": "markdown",
      "source": [
        "![Image](./img/negative_index.png  \"image\")\n"
      ]
    },
    {
      "metadata": {
        "id": "qT3gDxpFjTQu",
        "colab_type": "code",
        "slideshow": {
          "slide_type": "-"
        },
        "colab": {}
      },
      "cell_type": "code",
      "source": [
        "print(ss[-3])"
      ],
      "execution_count": 0,
      "outputs": []
    },
    {
      "metadata": {
        "id": "4cc6ZLVwjTQ4",
        "colab_type": "text",
        "slideshow": {
          "slide_type": "slide"
        }
      },
      "cell_type": "markdown",
      "source": [
        "### String slicing\n",
        "We can extract a part of a string.\n",
        "\n",
        "Indexing starts with ```0``` and not ```1```!<br>\n",
        "**Not MATLAB XD !**"
      ]
    },
    {
      "metadata": {
        "id": "4oftj5J3jTQ5",
        "colab_type": "code",
        "slideshow": {
          "slide_type": "slide"
        },
        "colab": {}
      },
      "cell_type": "code",
      "source": [
        "print(s[0:5])\n",
        "print(s[1:4])"
      ],
      "execution_count": 0,
      "outputs": []
    },
    {
      "metadata": {
        "id": "hf0nxO0rjTQ_",
        "colab_type": "code",
        "slideshow": {
          "slide_type": "subslide"
        },
        "colab": {}
      },
      "cell_type": "code",
      "source": [
        "s[:5]  # From start."
      ],
      "execution_count": 0,
      "outputs": []
    },
    {
      "metadata": {
        "id": "fibyBgu4jTRH",
        "colab_type": "code",
        "slideshow": {
          "slide_type": "subslide"
        },
        "colab": {}
      },
      "cell_type": "code",
      "source": [
        "s[6:]  # Till end."
      ],
      "execution_count": 0,
      "outputs": []
    },
    {
      "metadata": {
        "id": "Tb_31jGHjTRP",
        "colab_type": "code",
        "slideshow": {
          "slide_type": "subslide"
        },
        "colab": {}
      },
      "cell_type": "code",
      "source": [
        "s[:]  # From start and till end!"
      ],
      "execution_count": 0,
      "outputs": []
    },
    {
      "metadata": {
        "id": "b9ifnyi9jTRX",
        "colab_type": "code",
        "colab": {}
      },
      "cell_type": "code",
      "source": [
        "print(ss[-4:-1])"
      ],
      "execution_count": 0,
      "outputs": []
    },
    {
      "metadata": {
        "id": "8GwJj11ijTRd",
        "colab_type": "text"
      },
      "cell_type": "markdown",
      "source": [
        "**Specifying Stride while Slicing Strings**"
      ]
    },
    {
      "metadata": {
        "id": "LnHJGMpojTRe",
        "colab_type": "code",
        "colab": {}
      },
      "cell_type": "code",
      "source": [
        "print(ss[6:11])"
      ],
      "execution_count": 0,
      "outputs": []
    },
    {
      "metadata": {
        "id": "4x6oacWBjTRi",
        "colab_type": "raw"
      },
      "cell_type": "markdown",
      "source": [
        "We can obtain the same results by including a third parameter with a stride of 1:"
      ]
    },
    {
      "metadata": {
        "id": "v4No4PlZjTRm",
        "colab_type": "code",
        "colab": {}
      },
      "cell_type": "code",
      "source": [
        "print(ss[6:11:1])"
      ],
      "execution_count": 0,
      "outputs": []
    },
    {
      "metadata": {
        "id": "hvWEWJSvjTRx",
        "colab_type": "raw"
      },
      "cell_type": "markdown",
      "source": [
        "So, a stride of 1 will take in every character between two index numbers of a slice. If we omit the stride parameter then Python will default with 1.\n",
        "\n",
        "If, instead, we increase the stride, we will see that characters are skipped:\n",
        "\n"
      ]
    },
    {
      "metadata": {
        "id": "ZYOtR05sjTRy",
        "colab_type": "code",
        "colab": {}
      },
      "cell_type": "code",
      "source": [
        "print(ss[0:12:2])"
      ],
      "execution_count": 0,
      "outputs": []
    },
    {
      "metadata": {
        "id": "ckXASZynjTR3",
        "colab_type": "text",
        "slideshow": {
          "slide_type": "slide"
        }
      },
      "cell_type": "markdown",
      "source": [
        "#### String concatenation and formatting"
      ]
    },
    {
      "metadata": {
        "id": "HyEmscjejTR7",
        "colab_type": "code",
        "slideshow": {
          "slide_type": "subslide"
        },
        "colab": {}
      },
      "cell_type": "code",
      "source": [
        "a = \"foo\"\n",
        "b = \"bar\"\n",
        "a + b"
      ],
      "execution_count": 0,
      "outputs": []
    },
    {
      "metadata": {
        "id": "wFCJktddjTSB",
        "colab_type": "code",
        "slideshow": {
          "slide_type": "subslide"
        },
        "colab": {}
      },
      "cell_type": "code",
      "source": [
        "a + \" \"  + b"
      ],
      "execution_count": 0,
      "outputs": []
    },
    {
      "metadata": {
        "id": "qjYZZu7HjTSI",
        "colab_type": "raw"
      },
      "cell_type": "markdown",
      "source": [
        "Be sure not to use the + operator between two different data types. \n",
        "We can’t concatenate strings and integers together, for instance. So, if we try to write:"
      ]
    },
    {
      "metadata": {
        "id": "2sdTQSfCjTSP",
        "colab_type": "code",
        "colab": {}
      },
      "cell_type": "code",
      "source": [
        "print(\"Sammy\" + 27)"
      ],
      "execution_count": 0,
      "outputs": []
    },
    {
      "metadata": {
        "id": "HyYv2y2XjTSU",
        "colab_type": "raw"
      },
      "cell_type": "markdown",
      "source": [
        "If we wanted to create the string \"Sammy27\", we could do so by putting the number 27 in quotes (\"27\") "
      ]
    },
    {
      "metadata": {
        "id": "KHn5bI7HjTSX",
        "colab_type": "code",
        "colab": {}
      },
      "cell_type": "code",
      "source": [
        "print(\"Sammy\"+\"27\")"
      ],
      "execution_count": 0,
      "outputs": []
    },
    {
      "metadata": {
        "id": "KqCHCs6ZjTSf",
        "colab_type": "raw"
      },
      "cell_type": "markdown",
      "source": [
        "Or if say "
      ]
    },
    {
      "metadata": {
        "id": "RRN3Wc_cjTSg",
        "colab_type": "code",
        "colab": {}
      },
      "cell_type": "code",
      "source": [
        "var=27"
      ],
      "execution_count": 0,
      "outputs": []
    },
    {
      "metadata": {
        "id": "9xQVdpRYjTSl",
        "colab_type": "code",
        "colab": {}
      },
      "cell_type": "code",
      "source": [
        "print(\"Sammy\"+str(var))"
      ],
      "execution_count": 0,
      "outputs": []
    },
    {
      "metadata": {
        "id": "Dlfomh-NjTSt",
        "colab_type": "text"
      },
      "cell_type": "markdown",
      "source": [
        "### String Replication"
      ]
    },
    {
      "metadata": {
        "id": "ER9SrS11jTSu",
        "colab_type": "raw"
      },
      "cell_type": "markdown",
      "source": [
        "When used with one string and one integer, * is the string replication operator, repeating a single string however many times you would like through the integer you provide.\n",
        "\n",
        "Let’s print out “Orko_” 9 times without typing out “Orko_” 9 times with the * operator:"
      ]
    },
    {
      "metadata": {
        "id": "vIU3RCFdjTSx",
        "colab_type": "code",
        "colab": {}
      },
      "cell_type": "code",
      "source": [
        "print(\"Orko_\" * 9)"
      ],
      "execution_count": 0,
      "outputs": []
    },
    {
      "metadata": {
        "id": "oNQXNsHdjTS2",
        "colab_type": "text"
      },
      "cell_type": "markdown",
      "source": [
        "## Formatting Text in Python"
      ]
    },
    {
      "metadata": {
        "id": "mqkobk0KjTS4",
        "colab_type": "raw"
      },
      "cell_type": "markdown",
      "source": [
        "Declare with Single or Double Matching Quotes"
      ]
    },
    {
      "metadata": {
        "id": "xIXEOIgtjTS6",
        "colab_type": "code",
        "colab": {}
      },
      "cell_type": "code",
      "source": [
        "'Metakgp says, \"Hello!\"'"
      ],
      "execution_count": 0,
      "outputs": []
    },
    {
      "metadata": {
        "id": "pjbkRkWHjTTA",
        "colab_type": "code",
        "colab": {}
      },
      "cell_type": "code",
      "source": [
        "\"Metakgp's projects are great.\""
      ],
      "execution_count": 0,
      "outputs": []
    },
    {
      "metadata": {
        "id": "CfLl5ZRTjTTD",
        "colab_type": "raw"
      },
      "cell_type": "markdown",
      "source": [
        "Multiple Line Strings"
      ]
    },
    {
      "metadata": {
        "id": "xbigQHDDjTTF",
        "colab_type": "raw"
      },
      "cell_type": "markdown",
      "source": [
        "Why?\n",
        "Human Readability!"
      ]
    },
    {
      "metadata": {
        "id": "67CeUHp7jTTG",
        "colab_type": "raw"
      },
      "cell_type": "markdown",
      "source": [
        "Robert wanted to write a Poem, but wait !"
      ]
    },
    {
      "metadata": {
        "id": "24Zox-xQjTTH",
        "colab_type": "code",
        "colab": {}
      },
      "cell_type": "code",
      "source": [
        "poem=\"Two roads diverged in a yellow wood,\n",
        "And sorry I could not travel both\n",
        "And be one traveler, long I stood\n",
        "And looked down one as far as I could\n",
        "To where it bent in the undergrowth;\n",
        "\""
      ],
      "execution_count": 0,
      "outputs": []
    },
    {
      "metadata": {
        "id": "82xfw505jTTM",
        "colab_type": "code",
        "colab": {}
      },
      "cell_type": "code",
      "source": [
        "poem='''\n",
        "Two roads diverged in a yellow wood,\n",
        "And sorry I could not travel both\n",
        "And be one traveler, long I stood\n",
        "And looked down one as far as I could\n",
        "To where it bent in the undergrowth;\n",
        "'''"
      ],
      "execution_count": 0,
      "outputs": []
    },
    {
      "metadata": {
        "id": "Hd2c2NV1jTTP",
        "colab_type": "code",
        "colab": {}
      },
      "cell_type": "code",
      "source": [
        "print(poem)"
      ],
      "execution_count": 0,
      "outputs": []
    },
    {
      "metadata": {
        "id": "mtZqDSq0jTTR",
        "colab_type": "raw"
      },
      "cell_type": "markdown",
      "source": [
        "Escape Characters"
      ]
    },
    {
      "metadata": {
        "id": "39iDb8a9jTTR",
        "colab_type": "text"
      },
      "cell_type": "markdown",
      "source": [
        "![Image](./img/escape_character.png  \"image\")\n",
        "\n"
      ]
    },
    {
      "metadata": {
        "id": "PtavxRqAjTTS",
        "colab_type": "raw"
      },
      "cell_type": "markdown",
      "source": [
        "Let’s use an escape character to add the quotation marks to the example on quotation marks above, but this time we’ll use double quotes:"
      ]
    },
    {
      "metadata": {
        "id": "QJCUE5ArjTTT",
        "colab_type": "code",
        "colab": {}
      },
      "cell_type": "code",
      "source": [
        "print(\"Pat's dog says, \"Hello!\\\"\")"
      ],
      "execution_count": 0,
      "outputs": []
    },
    {
      "metadata": {
        "id": "hUqDUvsSjTTW",
        "colab_type": "code",
        "colab": {}
      },
      "cell_type": "code",
      "source": [
        "print('Pat's dog says, \"Hello!\\\"')"
      ],
      "execution_count": 0,
      "outputs": []
    },
    {
      "metadata": {
        "id": "Cge7qvcnjTTa",
        "colab_type": "code",
        "colab": {}
      },
      "cell_type": "code",
      "source": [
        "print(\"Pat's dog says, \\\"Hello!\\\"\")"
      ],
      "execution_count": 0,
      "outputs": []
    },
    {
      "metadata": {
        "id": "2cUc4omljTTd",
        "colab_type": "raw"
      },
      "cell_type": "markdown",
      "source": [
        "Exercise : Put them in single quotes!"
      ]
    },
    {
      "metadata": {
        "id": "KBQH3AgEjTTg",
        "colab_type": "code",
        "colab": {}
      },
      "cell_type": "code",
      "source": [
        "print('Pat\\'s dog says, \"Hello!\\\"')"
      ],
      "execution_count": 0,
      "outputs": []
    },
    {
      "metadata": {
        "id": "tVG9nwOKjTTj",
        "colab_type": "text"
      },
      "cell_type": "markdown",
      "source": [
        "## Raw Strings\n",
        "What if we don’t want special formatting within our strings? For example, we may need to compare or evaluate strings of computer code that use the backslash on purpose, so we won’t want Python to use it as an escape character.\n",
        "\n",
        "A raw string tells Python to ignore all formatting within a string, including escape characters.\n",
        "\n",
        "We create a raw string by putting an r in front of the string, right before the beginning quotation mark:\n",
        "\n"
      ]
    },
    {
      "metadata": {
        "id": "eCYm3-DUjTTj",
        "colab_type": "code",
        "colab": {}
      },
      "cell_type": "code",
      "source": [
        "print(\"This is \\x61 \\ngood example\")"
      ],
      "execution_count": 0,
      "outputs": []
    },
    {
      "metadata": {
        "id": "brOd6ZjjjTTn",
        "colab_type": "code",
        "colab": {}
      },
      "cell_type": "code",
      "source": [
        "print(r\"This is \\x61 \\ngood example\")"
      ],
      "execution_count": 0,
      "outputs": []
    },
    {
      "metadata": {
        "id": "Y6kPvczXjTTu",
        "colab_type": "text"
      },
      "cell_type": "markdown",
      "source": [
        "## String Formatting"
      ]
    },
    {
      "metadata": {
        "id": "WBsPu2gEjTTv",
        "colab_type": "text"
      },
      "cell_type": "markdown",
      "source": [
        "![Image](./img/format.png \"image\")"
      ]
    },
    {
      "metadata": {
        "id": "kffp5qn3jTTw",
        "colab_type": "code",
        "colab": {}
      },
      "cell_type": "code",
      "source": [
        "print(\"Hunter has {} MacBooks.\".format(3))"
      ],
      "execution_count": 0,
      "outputs": []
    },
    {
      "metadata": {
        "id": "xT9RznAgjTTy",
        "colab_type": "raw"
      },
      "cell_type": "markdown",
      "source": [
        "We can also assign a variable to be equal to the value of a string that has formatter placeholders:"
      ]
    },
    {
      "metadata": {
        "id": "sPG5BGkDjTTy",
        "colab_type": "code",
        "colab": {}
      },
      "cell_type": "code",
      "source": [
        "open_string = \"We love {}.\"\n",
        "print(open_string.format(\"Open Source\"))"
      ],
      "execution_count": 0,
      "outputs": []
    },
    {
      "metadata": {
        "id": "YWYgc0R_jTT-",
        "colab_type": "text"
      },
      "cell_type": "markdown",
      "source": [
        "### Using Formatters with Multiple Placeholders\n"
      ]
    },
    {
      "metadata": {
        "id": "omKY_86FjTT_",
        "colab_type": "code",
        "colab": {}
      },
      "cell_type": "code",
      "source": [
        "new_open_string = \"We love {} {}.\"                          #2 {} placeholders\n",
        "print(new_open_string.format(\"open-source\", \"software\"))    #Pass 2 strings into method, separated by a comma"
      ],
      "execution_count": 0,
      "outputs": []
    },
    {
      "metadata": {
        "id": "ZZ5mqVnVjTUC",
        "colab_type": "raw"
      },
      "cell_type": "markdown",
      "source": [
        "Keyword Arguments"
      ]
    },
    {
      "metadata": {
        "id": "nGgl9OoSjTUD",
        "colab_type": "code",
        "colab": {}
      },
      "cell_type": "code",
      "source": [
        "print(\"Orko the {0} has a pet {1}!\".format(\"Hunter\", \"cat\"))"
      ],
      "execution_count": 0,
      "outputs": []
    },
    {
      "metadata": {
        "id": "PhdWzNu2jTUG",
        "colab_type": "code",
        "colab": {}
      },
      "cell_type": "code",
      "source": [
        "print(\"Orko the {1} has a pet {0}!\".format(\"Hunter\", \"cat\"))"
      ],
      "execution_count": 0,
      "outputs": []
    },
    {
      "metadata": {
        "id": "g6EZkpOJjTUI",
        "colab_type": "text"
      },
      "cell_type": "markdown",
      "source": [
        "### Keyword arguments in format"
      ]
    },
    {
      "metadata": {
        "id": "anZ0SjdajTUJ",
        "colab_type": "code",
        "colab": {}
      },
      "cell_type": "code",
      "source": [
        "print(\"Octo the {0} {1} a {pr}.\".format(\"cat\", \"made\", pr = \"pull request\"))"
      ],
      "execution_count": 0,
      "outputs": []
    },
    {
      "metadata": {
        "id": "rJvF4ME4jTUK",
        "colab_type": "text"
      },
      "cell_type": "markdown",
      "source": [
        "### Alligning them !"
      ]
    },
    {
      "metadata": {
        "id": "-2GhPZ1XjTUL",
        "colab_type": "raw"
      },
      "cell_type": "markdown",
      "source": [
        "By default strings are left-justified within the field, and numbers are right-justified."
      ]
    },
    {
      "metadata": {
        "id": "K6-6TXIwjTUM",
        "colab_type": "text"
      },
      "cell_type": "markdown",
      "source": [
        "**You can modify this by placing an alignment code just following the colon. `<` will left-align the text in a field, `^` will center the text in the field, and `>` will right-align it.**"
      ]
    },
    {
      "metadata": {
        "id": "1fiCZTEFjTUM",
        "colab_type": "code",
        "colab": {}
      },
      "cell_type": "code",
      "source": [
        "print(\"Sammy has {0:<5} red {1:^10}!\".format(5, \"balloons\"))"
      ],
      "execution_count": 0,
      "outputs": []
    },
    {
      "metadata": {
        "id": "X3Hfb7smjTUO",
        "colab_type": "text"
      },
      "cell_type": "markdown",
      "source": [
        "## Specifying Type\n",
        "We can include more parameters within the curly braces of our syntax. We’ll use the format code syntax {`field_name`:`conversion`}, where **field_name** specifies the index number of the argument to the `str.format()` method that we went through in the reordering section, and **conversion** refers to the conversion code of the data type that you’re using with the formatter."
      ]
    },
    {
      "metadata": {
        "id": "ElFybY_4jTUP",
        "colab_type": "code",
        "colab": {}
      },
      "cell_type": "code",
      "source": [
        "print(\"Sammy ate {0:f} percent of a {1}!\".format(75, \"pizza\"))"
      ],
      "execution_count": 0,
      "outputs": []
    },
    {
      "metadata": {
        "id": "yNZV60tnjTUY",
        "colab_type": "code",
        "colab": {}
      },
      "cell_type": "code",
      "source": [
        "print(\"Sammy ate {0:.3f} percent of a pizza!\".format(75.765367))"
      ],
      "execution_count": 0,
      "outputs": []
    },
    {
      "metadata": {
        "id": "hkpPE6bSjTUa",
        "colab_type": "code",
        "colab": {}
      },
      "cell_type": "code",
      "source": [
        "print(\"Sammy ate {0:d} percent of a pizza!\".format(75.165367))\n"
      ],
      "execution_count": 0,
      "outputs": []
    },
    {
      "metadata": {
        "id": "imFYBescjTUc",
        "colab_type": "text"
      },
      "cell_type": "markdown",
      "source": [
        "***If you would like no decimal places to be shown, you can write your formatter like so:***"
      ]
    },
    {
      "metadata": {
        "id": "eyDDZF4xjTUc",
        "colab_type": "code",
        "colab": {}
      },
      "cell_type": "code",
      "source": [
        "print(\"Sammy ate {0:.0f} percent of a pizza!\".format(75.165367))"
      ],
      "execution_count": 0,
      "outputs": []
    },
    {
      "metadata": {
        "id": "sZZULl3pjTUd",
        "colab_type": "text",
        "slideshow": {
          "slide_type": "slide"
        }
      },
      "cell_type": "markdown",
      "source": [
        "## Important string functions"
      ]
    },
    {
      "metadata": {
        "id": "j--vXfxgjTUf",
        "colab_type": "text"
      },
      "cell_type": "markdown",
      "source": [
        "### lstrip()"
      ]
    },
    {
      "metadata": {
        "id": "ZMjiuyzSjTUf",
        "colab_type": "raw"
      },
      "cell_type": "markdown",
      "source": [
        "The lstrip() removes characters from the left based on the argument (a string specifying the set of characters to be removed)."
      ]
    },
    {
      "metadata": {
        "id": "jejib3oLjTUf",
        "colab_type": "code",
        "colab": {}
      },
      "cell_type": "code",
      "source": [
        "random_string = '   this is good '"
      ],
      "execution_count": 0,
      "outputs": []
    },
    {
      "metadata": {
        "id": "uiZ7-9AXjTUj",
        "colab_type": "code",
        "colab": {}
      },
      "cell_type": "code",
      "source": [
        "# Leading whitepsace are removed\n",
        "print(random_string.lstrip())"
      ],
      "execution_count": 0,
      "outputs": []
    },
    {
      "metadata": {
        "id": "-DekDOdmjTUn",
        "colab_type": "code",
        "colab": {}
      },
      "cell_type": "code",
      "source": [
        "# Argument doesn't contain space\n",
        "# No characters are removed.\n",
        "print(random_string.lstrip('sti'))"
      ],
      "execution_count": 0,
      "outputs": []
    },
    {
      "metadata": {
        "id": "iwx4tY8CjTUs",
        "colab_type": "code",
        "colab": {}
      },
      "cell_type": "code",
      "source": [
        "print(random_string.lstrip('s ti'))"
      ],
      "execution_count": 0,
      "outputs": []
    },
    {
      "metadata": {
        "id": "NaY4DUgAjTUu",
        "colab_type": "code",
        "colab": {}
      },
      "cell_type": "code",
      "source": [
        "website = 'https://kwoc.kossiitkgp.in/summit'\n",
        "print(website.lstrip('htps:/.'))"
      ],
      "execution_count": 0,
      "outputs": []
    },
    {
      "metadata": {
        "id": "IvL-It6IjTUz",
        "colab_type": "text"
      },
      "cell_type": "markdown",
      "source": [
        "### rstrip()"
      ]
    },
    {
      "metadata": {
        "id": "3N5F5-bkjTU2",
        "colab_type": "raw"
      },
      "cell_type": "markdown",
      "source": [
        "rstrip() returns a copy of the string with trailing characters stripped."
      ]
    },
    {
      "metadata": {
        "id": "P8DPe__-jTU2",
        "colab_type": "code",
        "colab": {}
      },
      "cell_type": "code",
      "source": [
        "# Leading whitepsace are removed\n",
        "print(random_string.rstrip())"
      ],
      "execution_count": 0,
      "outputs": []
    },
    {
      "metadata": {
        "id": "c_HICgLjjTU4",
        "colab_type": "code",
        "colab": {}
      },
      "cell_type": "code",
      "source": [
        "# Argument doesn't contain 'd'\n",
        "# No characters are removed.\n",
        "print(random_string.rstrip('si oo'))"
      ],
      "execution_count": 0,
      "outputs": []
    },
    {
      "metadata": {
        "id": "-fdT1KdOjTU7",
        "colab_type": "code",
        "colab": {}
      },
      "cell_type": "code",
      "source": [
        "print(random_string.rstrip('sid oo'))"
      ],
      "execution_count": 0,
      "outputs": []
    },
    {
      "metadata": {
        "id": "gFPTvKyDjTU9",
        "colab_type": "code",
        "colab": {}
      },
      "cell_type": "code",
      "source": [
        "website = 'https://kwoc.kossiitkgp.in/summit'\n",
        "print(website.rstrip('m/.'))"
      ],
      "execution_count": 0,
      "outputs": []
    },
    {
      "metadata": {
        "id": "jqHs9RYwjTVC",
        "colab_type": "text",
        "slideshow": {
          "slide_type": "slide"
        }
      },
      "cell_type": "markdown",
      "source": [
        "### strip()\n",
        "\n",
        "Removes the whitespaces from the ends of a string."
      ]
    },
    {
      "metadata": {
        "id": "UJ_soQRIjTVC",
        "colab_type": "code",
        "colab": {}
      },
      "cell_type": "code",
      "source": [
        "string = ' xoxo love xoxo   '"
      ],
      "execution_count": 0,
      "outputs": []
    },
    {
      "metadata": {
        "id": "8yjUeX1WjTVD",
        "colab_type": "code",
        "colab": {}
      },
      "cell_type": "code",
      "source": [
        "# Leading whitepsace are removed\n",
        "print(string.strip())"
      ],
      "execution_count": 0,
      "outputs": []
    },
    {
      "metadata": {
        "id": "lPpgHQERjTVF",
        "colab_type": "code",
        "colab": {}
      },
      "cell_type": "code",
      "source": [
        "print(string.strip(' xoxoe'))"
      ],
      "execution_count": 0,
      "outputs": []
    },
    {
      "metadata": {
        "id": "CJ5P3kLhjTVI",
        "colab_type": "code",
        "colab": {}
      },
      "cell_type": "code",
      "source": [
        "# Argument doesn't contain space\n",
        "# No characters are removed.\n",
        "print(string.strip('sti'))"
      ],
      "execution_count": 0,
      "outputs": []
    },
    {
      "metadata": {
        "id": "W1MVSu4xjTVJ",
        "colab_type": "code",
        "colab": {}
      },
      "cell_type": "code",
      "source": [
        "string = 'android is awesome'\n",
        "print(string.strip('an'))"
      ],
      "execution_count": 0,
      "outputs": []
    },
    {
      "metadata": {
        "id": "d6v6GsmLjTVK",
        "colab_type": "text",
        "slideshow": {
          "slide_type": "slide"
        }
      },
      "cell_type": "markdown",
      "source": [
        "### split()\n",
        "Splits the string into a list according to the passed delimiter"
      ]
    },
    {
      "metadata": {
        "id": "E8Pw-LGKjTVL",
        "colab_type": "code",
        "colab": {}
      },
      "cell_type": "code",
      "source": [
        "text= 'Love thy neighbor'\n",
        "\n",
        "# splits at space\n",
        "print(text.split())"
      ],
      "execution_count": 0,
      "outputs": []
    },
    {
      "metadata": {
        "id": "YyvGRei4jTVN",
        "colab_type": "code",
        "colab": {}
      },
      "cell_type": "code",
      "source": [
        "grocery = 'Milk, Chicken, Bread'"
      ],
      "execution_count": 0,
      "outputs": []
    },
    {
      "metadata": {
        "id": "4Xyet9BbjTVQ",
        "colab_type": "code",
        "colab": {}
      },
      "cell_type": "code",
      "source": [
        "# splits at ','\n",
        "print(grocery.split(', '))"
      ],
      "execution_count": 0,
      "outputs": []
    },
    {
      "metadata": {
        "id": "ScwyUYeGjTVX",
        "colab_type": "code",
        "colab": {}
      },
      "cell_type": "code",
      "source": [
        "# Splitting at ':'\n",
        "print(grocery.split(':'))"
      ],
      "execution_count": 0,
      "outputs": []
    },
    {
      "metadata": {
        "id": "-BLB8OXsjTVY",
        "colab_type": "text"
      },
      "cell_type": "markdown",
      "source": [
        "## splitlines"
      ]
    },
    {
      "metadata": {
        "id": "RcnRpW7bjTVZ",
        "colab_type": "raw"
      },
      "cell_type": "markdown",
      "source": [
        "The splitlines() splits on the following line boundaries:"
      ]
    },
    {
      "metadata": {
        "id": "ZKV7wR0-jTVa",
        "colab_type": "text"
      },
      "cell_type": "markdown",
      "source": [
        "![Image](./img/splitlines.png \"Image\")"
      ]
    },
    {
      "metadata": {
        "id": "sguGDBa9jTVa",
        "colab_type": "code",
        "colab": {}
      },
      "cell_type": "code",
      "source": [
        "grocery = 'Milk\\nChicken\\r\\nBread\\rButter'\n",
        "\n",
        "print(grocery.splitlines())\n",
        "print(grocery.splitlines(True))\n",
        "\n",
        "grocery = 'Milk Chicken Bread Butter'\n",
        "print(grocery.splitlines())"
      ],
      "execution_count": 0,
      "outputs": []
    },
    {
      "metadata": {
        "id": "xaPqhOAVjTVe",
        "colab_type": "text"
      },
      "cell_type": "markdown",
      "source": [
        "## str.replace()"
      ]
    },
    {
      "metadata": {
        "id": "tDFpIQqTjTVe",
        "colab_type": "raw"
      },
      "cell_type": "markdown",
      "source": [
        "Takes original string and returns an updated string with some replacement."
      ]
    },
    {
      "metadata": {
        "id": "0XxO116CjTVe",
        "colab_type": "code",
        "colab": {}
      },
      "cell_type": "code",
      "source": [
        "balloon = \"Sammy has a balloon.\""
      ],
      "execution_count": 0,
      "outputs": []
    },
    {
      "metadata": {
        "id": "ZgQ8EYEPjTVj",
        "colab_type": "code",
        "colab": {}
      },
      "cell_type": "code",
      "source": [
        "print(balloon.replace(\"has\",\"had\"))"
      ],
      "execution_count": 0,
      "outputs": []
    },
    {
      "metadata": {
        "id": "ZjsedB68jTVk",
        "colab_type": "text"
      },
      "cell_type": "markdown",
      "source": [
        "### Making Strings Upper and Lower Case"
      ]
    },
    {
      "metadata": {
        "id": "nIgWYheZjTVl",
        "colab_type": "code",
        "colab": {}
      },
      "cell_type": "code",
      "source": [
        "ss = \"Sammy Shark\"\n",
        "print(ss.upper())"
      ],
      "execution_count": 0,
      "outputs": []
    },
    {
      "metadata": {
        "id": "0vcThYBNjTVl",
        "colab_type": "code",
        "colab": {}
      },
      "cell_type": "code",
      "source": [
        "print(ss.lower())"
      ],
      "execution_count": 0,
      "outputs": []
    },
    {
      "metadata": {
        "id": "0wFMKnm-jTVn",
        "colab_type": "raw"
      },
      "cell_type": "markdown",
      "source": [
        "Boolean Methods on Strings"
      ]
    },
    {
      "metadata": {
        "id": "NN9ycHfEjTVv",
        "colab_type": "text"
      },
      "cell_type": "markdown",
      "source": [
        "![img](./img/string_boolean.png \"img\")"
      ]
    },
    {
      "metadata": {
        "id": "7U7qMiORjTVw",
        "colab_type": "code",
        "colab": {}
      },
      "cell_type": "code",
      "source": [
        "number = \"5\"\n",
        "letters = \"abcdef\"\n",
        "\n",
        "print(number.isnumeric())\n",
        "print(letters.isnumeric())"
      ],
      "execution_count": 0,
      "outputs": []
    },
    {
      "metadata": {
        "id": "ozdlqS2hjTVz",
        "colab_type": "text"
      },
      "cell_type": "markdown",
      "source": [
        "### join(), split(), and replace() Methods"
      ]
    },
    {
      "metadata": {
        "id": "Tr8rF5tPjTV2",
        "colab_type": "raw"
      },
      "cell_type": "markdown",
      "source": [
        "The str.join() method will concatenate two strings.\n",
        "It passes one string to other!"
      ]
    },
    {
      "metadata": {
        "id": "z75mCZxHjTV3",
        "colab_type": "raw"
      },
      "cell_type": "markdown",
      "source": [
        "The join() method returns a string concatenated with the elements of an iterable."
      ]
    },
    {
      "metadata": {
        "id": "qteYKOtKjTV4",
        "colab_type": "raw"
      },
      "cell_type": "markdown",
      "source": [
        "Creating a string :"
      ]
    },
    {
      "metadata": {
        "id": "79RTlbwtjTV5",
        "colab_type": "code",
        "colab": {}
      },
      "cell_type": "code",
      "source": [
        "laptop = \"Orko has a lappy.\""
      ],
      "execution_count": 0,
      "outputs": []
    },
    {
      "metadata": {
        "id": "2iTlkpNqjTV8",
        "colab_type": "code",
        "colab": {}
      },
      "cell_type": "code",
      "source": [
        "print(\" \".join(laptop))"
      ],
      "execution_count": 0,
      "outputs": []
    },
    {
      "metadata": {
        "id": "UcZAv7Q7jTWD",
        "colab_type": "code",
        "colab": {}
      },
      "cell_type": "code",
      "source": [
        "numList = ['1', '2', '3', '4']\n",
        "seperator = ', '\n",
        "print(seperator.join(numList))"
      ],
      "execution_count": 0,
      "outputs": []
    },
    {
      "metadata": {
        "id": "8QrVTL9njTWH",
        "colab_type": "code",
        "colab": {}
      },
      "cell_type": "code",
      "source": [
        "numTuple = ('1', '2', '3', '4')\n",
        "print(seperator.join(numTuple))"
      ],
      "execution_count": 0,
      "outputs": []
    },
    {
      "metadata": {
        "id": "plM9-EDtjTWM",
        "colab_type": "code",
        "colab": {}
      },
      "cell_type": "code",
      "source": [
        "s1 = 'abc'\n",
        "s2 = '123'"
      ],
      "execution_count": 0,
      "outputs": []
    },
    {
      "metadata": {
        "id": "hEnfQm9QjTWO",
        "colab_type": "code",
        "colab": {}
      },
      "cell_type": "code",
      "source": [
        "\"\"\" Each character of s2 is concatenated to the front of s1\"\"\" \n",
        "print('s1.join(s2):', s1.join(s2))"
      ],
      "execution_count": 0,
      "outputs": []
    },
    {
      "metadata": {
        "id": "Aw8e7iK7jTWQ",
        "colab_type": "code",
        "colab": {}
      },
      "cell_type": "code",
      "source": [
        "\"\"\" Each character of s1 is concatenated to the front of s2\"\"\" \n",
        "print('s2.join(s1):', s2.join(s1))"
      ],
      "execution_count": 0,
      "outputs": []
    },
    {
      "metadata": {
        "id": "aMXPxyVLjTWS",
        "colab_type": "text"
      },
      "cell_type": "markdown",
      "source": [
        "### Some Hands-on!"
      ]
    },
    {
      "metadata": {
        "id": "Yhw5Dg-ojTWS",
        "colab_type": "code",
        "colab": {}
      },
      "cell_type": "code",
      "source": [
        ""
      ],
      "execution_count": 0,
      "outputs": []
    },
    {
      "metadata": {
        "id": "wrvmQI_Ekp6c",
        "colab_type": "text"
      },
      "cell_type": "markdown",
      "source": [
        "# Question"
      ]
    },
    {
      "metadata": {
        "id": "nObSAONDkvCe",
        "colab_type": "text"
      },
      "cell_type": "markdown",
      "source": [
        "# Before we proceed to question\n",
        "1. Take input from user as type integer.\n",
        "2. Take three input from integer, store it in a list and then print l[1],l[2]      l[3] without the use of string concatenation\n",
        "3. print 5 , 30 times"
      ]
    },
    {
      "metadata": {
        "id": "fNIYE2WAnkL9",
        "colab_type": "text"
      },
      "cell_type": "markdown",
      "source": [
        "# Question set\n"
      ]
    },
    {
      "metadata": {
        "id": "rVuuD5Vrpi1q",
        "colab_type": "text"
      },
      "cell_type": "markdown",
      "source": [
        "# Basic Question\n",
        "1. Take input from user, reverse it and print it(Max two lines of code)\n",
        "2. Take input from user and print true or false accordingly if it starts with the string \"sangit\"(max two line of code)\n",
        "3. a_string = '深入 Python' encode , decode this string in \"UTF-8\" and print at each step in python."
      ]
    },
    {
      "metadata": {
        "id": "XEavnTf5p5Tj",
        "colab_type": "text"
      },
      "cell_type": "markdown",
      "source": [
        "# Question 1\n",
        "Apoorva is one of the unfortunate students of iitkgp. He has never attended koss python classes, So you have to help him again. He was fired from the backend company, and now he works in a puzzle company at a lower wage. So he is given some keys and a string he is said to decode that. So he thinks to apply some of his basic previous knowledge to decode that string. In that string every word is seperated by a backslash.   \n",
        "**o** =  000000   \n",
        "**i**  =  100000  \n",
        "**l**  =  110000  \n",
        "**k** =  111000  \n",
        "**s** =  111100  \n",
        "**v** =  111110  \n",
        "**e** = 111111  \n",
        "\n",
        "**String1** =   100000\\110000000000111110111111\\111000000000111100111100\n",
        "\n",
        "you might need a basic if else block:  \n"
      ]
    },
    {
      "metadata": {
        "id": "55rgo-c67yQX",
        "colab_type": "code",
        "colab": {}
      },
      "cell_type": "code",
      "source": [
        "if(x==\"000000\"):\n",
        "    print(\"kaka\")\n",
        "elif(x==\"lambda\"):\n",
        "    print(\"kaku\")"
      ],
      "execution_count": 0,
      "outputs": []
    },
    {
      "metadata": {
        "id": "Xce9Br_Z73Ih",
        "colab_type": "text"
      },
      "cell_type": "markdown",
      "source": [
        "# Question 2\n",
        "Take input from user take the string strip all spaces if any, remove all unicode character, take last 5 character and output true if it's alphanumeric.  \n",
        "string1=\"Python深入Apoorva深入 深入 Nitin深入123&^%$#@ 深入 Sangeet#@ 深入\""
      ]
    }
  ]
}