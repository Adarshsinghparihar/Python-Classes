{
  "nbformat": 4,
  "nbformat_minor": 0,
  "metadata": {
    "colab": {
      "name": "4.if-else.ipynb",
      "version": "0.3.2",
      "provenance": []
    },
    "kernelspec": {
      "display_name": "Python 3",
      "language": "python",
      "name": "python3"
    }
  },
  "cells": [
    {
      "metadata": {
        "id": "K__U7A01BBBA",
        "colab_type": "text",
        "slideshow": {
          "slide_type": "slide"
        }
      },
      "cell_type": "markdown",
      "source": [
        "## Topic : if / else\n",
        "---------\n",
        "\n",
        "It is similar to that of other languages. The if statement contains a logical expression using which data is compared and a decision is made based on the result of the comparison.\n",
        "\n",
        "### An important difference with C and C++ is that Python uses indentation to group things."
      ]
    },
    {
      "metadata": {
        "id": "Wfh7yh9CBBBH",
        "colab_type": "code",
        "slideshow": {
          "slide_type": "subslide"
        },
        "colab": {}
      },
      "cell_type": "code",
      "source": [
        "if 2 > 1:\n",
        "    print (\"Hello World!\")"
      ],
      "execution_count": 0,
      "outputs": []
    },
    {
      "metadata": {
        "id": "9jJN-gBLBBBS",
        "colab_type": "text"
      },
      "cell_type": "markdown",
      "source": [
        "An else statement can be combined with an if statement. An else statement contains the block of code that executes if the conditional expression in the if statement resolves to 0 or a FALSE value.\n",
        "\n",
        "The else statement is an optional statement and there could be at most only one else statement following if."
      ]
    },
    {
      "metadata": {
        "id": "huI3NiHdBBBU",
        "colab_type": "code",
        "slideshow": {
          "slide_type": "subslide"
        },
        "colab": {}
      },
      "cell_type": "code",
      "source": [
        "if 1 > 2:\n",
        "    print (\"Hello World!\")\n",
        "else:\n",
        "    print (\"World is not a beautiful place!\")"
      ],
      "execution_count": 0,
      "outputs": []
    },
    {
      "metadata": {
        "id": "TCsdaHP8BBBc",
        "colab_type": "text"
      },
      "cell_type": "markdown",
      "source": [
        "The elif statement allows you to check multiple expressions for TRUE and execute a block of code as soon as one of the conditions evaluates to TRUE.\n",
        "\n",
        "Similar to the else, the elif statement is optional. However, unlike else, for which there can be at most one statement, there can be an arbitrary number of elif statements following an if."
      ]
    },
    {
      "metadata": {
        "id": "0ejUVRm2BBBg",
        "colab_type": "code",
        "slideshow": {
          "slide_type": "subslide"
        },
        "colab": {}
      },
      "cell_type": "code",
      "source": [
        "if 1 > 2:\n",
        "    print (\"Hello World!\")\n",
        "elif 2 > 3:\n",
        "    print (\"World is even better!\")\n",
        "elif 3 > 4:\n",
        "    print (\"I don't want to live here!\")\n",
        "else:\n",
        "    print (\"World is not a beautiful place!\")"
      ],
      "execution_count": 0,
      "outputs": []
    },
    {
      "metadata": {
        "id": "CMRv5pJ1BBBm",
        "colab_type": "text"
      },
      "cell_type": "markdown",
      "source": [
        "### Logical operators"
      ]
    },
    {
      "metadata": {
        "id": "QnDJ1iI3BBBn",
        "colab_type": "code",
        "colab": {}
      },
      "cell_type": "code",
      "source": [
        "if 1 > 2 and 2 > 3:\n",
        "    print (\"Hello World!\")\n",
        "elif 2 > 3 or 3 > 4:\n",
        "    print (\"World is even better!\")\n",
        "elif not 3 > 4:\n",
        "    print (\"I don't want to live here!\")\n",
        "else:\n",
        "    print (\"World is not a beautiful place!\")"
      ],
      "execution_count": 0,
      "outputs": []
    },
    {
      "metadata": {
        "id": "G8nn98z2BBBt",
        "colab_type": "text",
        "slideshow": {
          "slide_type": "slide"
        }
      },
      "cell_type": "markdown",
      "source": [
        "### if / else with strings and lists"
      ]
    },
    {
      "metadata": {
        "id": "bPmNUTzoBBBw",
        "colab_type": "code",
        "slideshow": {
          "slide_type": "subslide"
        },
        "colab": {}
      },
      "cell_type": "code",
      "source": [
        "list1 = [1,2,3,4,5,True,\"hello\"]\n",
        "s = \"hello world!\"\n",
        "print list1\n",
        "print s"
      ],
      "execution_count": 0,
      "outputs": []
    },
    {
      "metadata": {
        "id": "Er7j8L4ZBBB4",
        "colab_type": "code",
        "slideshow": {
          "slide_type": "subslide"
        },
        "colab": {}
      },
      "cell_type": "code",
      "source": [
        "if 4 in list1:\n",
        "    print (\"Hey! 4 exists in list1\")"
      ],
      "execution_count": 0,
      "outputs": []
    },
    {
      "metadata": {
        "id": "W7yS6eDLBBCC",
        "colab_type": "code",
        "slideshow": {
          "slide_type": "subslide"
        },
        "colab": {}
      },
      "cell_type": "code",
      "source": [
        "if 2 in list1:\n",
        "    i = list1.index(2)\n",
        "    print (\"Search successful. Found at index {0}\".format((i+1)))"
      ],
      "execution_count": 0,
      "outputs": []
    },
    {
      "metadata": {
        "id": "5im0z6iMBBCL",
        "colab_type": "code",
        "slideshow": {
          "slide_type": "subslide"
        },
        "colab": {}
      },
      "cell_type": "code",
      "source": [
        "if 'o' in s:\n",
        "    print (\"'o' exists!\")"
      ],
      "execution_count": 0,
      "outputs": []
    },
    {
      "metadata": {
        "id": "cG1D8oM9BBCW",
        "colab_type": "code",
        "slideshow": {
          "slide_type": "subslide"
        },
        "colab": {}
      },
      "cell_type": "code",
      "source": [
        "if 'llo' in s:\n",
        "    print (\"'llo' exists!\")if True:\n",
        "    print('This conditional is always True.')\n",
        "\n",
        "if not False:\n",
        "    print('This conditional is always not False.')\n",
        "\n",
        "if 1:\n",
        "    print('1 is True')\n",
        "else:\n",
        "    print('1 is False')\n",
        "\n",
        "if 0:\n",
        "    print('0 is True')\n",
        "else:\n",
        "    print('0 is False')"
      ],
      "execution_count": 0,
      "outputs": []
    },
    {
      "metadata": {
        "id": "EWLmJSw6BBCc",
        "colab_type": "text"
      },
      "cell_type": "markdown",
      "source": [
        "### With bool type : "
      ]
    },
    {
      "metadata": {
        "id": "tGFTnIvuBBCd",
        "colab_type": "code",
        "colab": {}
      },
      "cell_type": "code",
      "source": [
        "if True:\n",
        "    print('This conditional is always True.')\n",
        "\n",
        "if not False:\n",
        "    print('This conditional is always not False.')"
      ],
      "execution_count": 0,
      "outputs": []
    },
    {
      "metadata": {
        "id": "GRCjCuLxBBCj",
        "colab_type": "code",
        "colab": {}
      },
      "cell_type": "code",
      "source": [
        "if 1:\n",
        "    print('1 is True')\n",
        "else:\n",
        "    print('1 is False')"
      ],
      "execution_count": 0,
      "outputs": []
    },
    {
      "metadata": {
        "id": "AZJDUAJQBBCr",
        "colab_type": "code",
        "colab": {}
      },
      "cell_type": "code",
      "source": [
        "if 0:\n",
        "    print('0 is True')\n",
        "else:\n",
        "    print('0 is False')"
      ],
      "execution_count": 0,
      "outputs": []
    },
    {
      "metadata": {
        "id": "gPlu8q0lBBCx",
        "colab_type": "text"
      },
      "cell_type": "markdown",
      "source": [
        "### Let's put our skils to work on a new example!"
      ]
    },
    {
      "metadata": {
        "id": "loNYLUHkBBCz",
        "colab_type": "code",
        "colab": {}
      },
      "cell_type": "code",
      "source": [
        "age = 9\n",
        "\n",
        "if age <= 19: # if statement\n",
        "    # Notice the indentation\n",
        "    message = 'Yay! You are a teenager.' \n",
        "    print(message)"
      ],
      "execution_count": 0,
      "outputs": []
    },
    {
      "metadata": {
        "id": "ooXw2PtnBBC5",
        "colab_type": "code",
        "colab": {}
      },
      "cell_type": "code",
      "source": [
        "age = 21\n",
        "\n",
        "if age <= 19 and age > 12: # if statement with two conditions\n",
        "    message = 'Yay! You are a teenager.' \n",
        "    print(message)"
      ],
      "execution_count": 0,
      "outputs": []
    },
    {
      "metadata": {
        "id": "Gi42r_bqBBC9",
        "colab_type": "code",
        "colab": {}
      },
      "cell_type": "code",
      "source": [
        "age = 10\n",
        "\n",
        "if age <= 19 and age > 12: # if-else statement\n",
        "    message = 'Yay! You are a teenager. :)' \n",
        "    print(message)\n",
        "else:\n",
        "    message = 'Alas! You are not a teenager. :('\n",
        "    print(message)"
      ],
      "execution_count": 0,
      "outputs": []
    },
    {
      "metadata": {
        "id": "IKXmrYo7BBDE",
        "colab_type": "code",
        "colab": {}
      },
      "cell_type": "code",
      "source": [
        "age = 10\n",
        "\n",
        "if age <= 19 and age > 12: # if-elif-else statement\n",
        "    message = 'Yay! You are a teenager. :)' \n",
        "    print(message)\n",
        "elif age < 13:\n",
        "    message = 'Be prepared! You are about to be a teenager. :D'\n",
        "    print(message)\n",
        "else:\n",
        "    message = 'Alas! You are not a teenager. :('\n",
        "    print(message)"
      ],
      "execution_count": 0,
      "outputs": []
    },
    {
      "metadata": {
        "id": "5TvOvTg-BJvM",
        "colab_type": "text"
      },
      "cell_type": "markdown",
      "source": [
        "#Question 1\n",
        "@rava_dosa is a true god in puzzle making, So he has created a new game called string sudoku. In string sudoku you have to fill in box with string containing letters which is not present in sudoku. So he wants a programmer from iitkgp.Specs for the programme is as follow:  \n",
        "1. you have to generate new puzzle in 3X2 grid with user input on how many cells will be empt which will be embedded in a string provided by @rava_dosa. But if there is some string like a-c (abc) or a*6(aaaaaa) you have to generate a string accordingly. \n",
        "2. User input will be like, **(((a-c)(b*6gh)(thj))((qwer)(rty)(lkj))((asd)(zxc)())(()()()))**, . Create a 2d list. and print it.  \n",
        "You might need to know some basic list function."
      ]
    },
    {
      "metadata": {
        "id": "lT8ybvU-LPsB",
        "colab_type": "code",
        "colab": {
          "base_uri": "https://localhost:8080/",
          "height": 52
        },
        "outputId": "a95cb081-919f-4f82-bffd-32271b2e1f29"
      },
      "cell_type": "code",
      "source": [
        "l=[]\n",
        "l.append(1)\n",
        "l.append(2)\n",
        "y=[]\n",
        "y.append(l)\n",
        "print(y)\n",
        "print(y[0][0])"
      ],
      "execution_count": 2,
      "outputs": [
        {
          "output_type": "stream",
          "text": [
            "[[1, 2]]\n",
            "1\n"
          ],
          "name": "stdout"
        }
      ]
    }
  ]
}