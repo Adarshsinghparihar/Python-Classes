{
 "cells": [
  {
   "cell_type": "markdown",
   "metadata": {},
   "source": [
    "## Tic - Tac - Toe\n",
    "\n",
    "Time for some fake graphics! Let’s say we want to draw game boards that look like this:\n"
   ]
  },
  {
   "cell_type": "raw",
   "metadata": {},
   "source": [
    " _ _ _\n",
    "|_|_|_|\n",
    "|_|_|_|\n",
    "|_|_|_|\n",
    "\n",
    "\n",
    "Currently player: 1\n",
    "Which row? (start with 1) 1\n",
    "Which column? (start with 1) 1\n",
    " _ _ _ \n",
    "|X|_|_|\n",
    "|_|_|_|\n",
    "|_|_|_|\n",
    "\n",
    "Currently player: 2\n",
    "Which row? (start with 1) 3\n",
    "Which column? (start with 1) 3\n",
    " _ _ _ \n",
    "|X|_|_|\n",
    "|_|_|_|\n",
    "|_|_|O|\n",
    "Currently player: 1\n",
    "Which row? (start with 1) 1\n",
    "Which column? (start with 1) 3\n",
    " _ _ _ \n",
    "|X|_|X|\n",
    "|_|_|_|\n",
    "|_|_|O|\n",
    "Currently player: 2\n",
    "Which row? (start with 1) 1\n",
    "Which column? (start with 1) 2\n",
    " _ _ _ \n",
    "|X|O|X|\n",
    "|_|_|_|\n",
    "|_|_|O|\n",
    "Currently player: 1\n",
    "Which row? (start with 1) 3\n",
    "Which column? (start with 1) 1\n",
    " _ _ _ \n",
    "|X|O|X|\n",
    "|_|_|_|\n",
    "|X|_|O|\n",
    "Currently player: 2\n",
    "Which row? (start with 1) 3\n",
    "Which column? (start with 1) 2\n",
    " _ _ _ \n",
    "|X|O|X|\n",
    "|_|_|_|\n",
    "|X|O|O|\n",
    "Currently player: 1\n",
    "Which row? (start with 1) 2\n",
    "Which column? (start with 1) 1\n",
    " _ _ _ \n",
    "|X|O|X|\n",
    "|X|_|_|\n",
    "|X|O|O|\n",
    "Player 1 wins!"
   ]
  },
  {
   "cell_type": "markdown",
   "metadata": {},
   "source": [
    "Our goal here is to build this game.\n",
    "So let's start this in pieces.\n",
    "\n",
    "What are the different possible pieces you can break this game into? "
   ]
  },
  {
   "cell_type": "code",
   "execution_count": null,
   "metadata": {},
   "outputs": [],
   "source": []
  }
 ],
 "metadata": {
  "kernelspec": {
   "display_name": "Python 3",
   "language": "python",
   "name": "python3"
  },
  "language_info": {
   "codemirror_mode": {
    "name": "ipython",
    "version": 3
   },
   "file_extension": ".py",
   "mimetype": "text/x-python",
   "name": "python",
   "nbconvert_exporter": "python",
   "pygments_lexer": "ipython3",
   "version": "3.6.3"
  }
 },
 "nbformat": 4,
 "nbformat_minor": 2
}
